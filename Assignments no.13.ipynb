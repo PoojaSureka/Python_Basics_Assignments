{
 "cells": [
  {
   "cell_type": "markdown",
   "metadata": {},
   "source": [
    "1. What advantages do Excel spreadsheets have over CSV spreadsheets?"
   ]
  },
  {
   "cell_type": "code",
   "execution_count": null,
   "metadata": {},
   "outputs": [],
   "source": [
    "### 1.Excel (XLS and XLSX) file formats are better for storing and analysing complex data. \n",
    "### 2.An Excel not only stores data but can also do operations on the data using macros, formulas etc.\n",
    "### 3.CSV files are plain-text files, Does not contain formatting, formulas, macros, etc. It is also known as flat files."
   ]
  },
  {
   "cell_type": "markdown",
   "metadata": {},
   "source": [
    "2.What do you pass to csv.reader() and csv.writer() to create reader and writer objects?"
   ]
  },
  {
   "cell_type": "code",
   "execution_count": 4,
   "metadata": {},
   "outputs": [
    {
     "name": "stdout",
     "output_type": "stream",
     "text": [
      "[Errno 2] No such file or directory: 'people.csv'\n"
     ]
    }
   ],
   "source": [
    "try:\n",
    "    import csv\n",
    "    with open('people.csv', 'r') as file:\n",
    "        reader = csv.reader(file)\n",
    "        for i in reader:\n",
    "            print(i)\n",
    "except Exception as e:\n",
    "    print(e)"
   ]
  },
  {
   "cell_type": "markdown",
   "metadata": {},
   "source": [
    "3. What modes do File objects for reader and writer objects need to be opened in?"
   ]
  },
  {
   "cell_type": "code",
   "execution_count": 5,
   "metadata": {},
   "outputs": [],
   "source": [
    "### The file objects needed to be opened in read mode mode='r' \n",
    "### The file objects needed to be opened in write mode mode='w'"
   ]
  },
  {
   "cell_type": "markdown",
   "metadata": {},
   "source": [
    "4. What method takes a list argument and writes it to a CSV file?"
   ]
  },
  {
   "cell_type": "code",
   "execution_count": null,
   "metadata": {},
   "outputs": [],
   "source": [
    "### writerows()\n",
    "\n",
    "### This function takes a list of iterables as parameter and writes each item as a comma separated line of items in the file."
   ]
  },
  {
   "cell_type": "markdown",
   "metadata": {},
   "source": [
    "5. What do the keyword arguments delimiter and line terminator do?"
   ]
  },
  {
   "cell_type": "code",
   "execution_count": null,
   "metadata": {},
   "outputs": [],
   "source": [
    "### The delimiter is the character that appears between cells on a row. \n",
    "### By default, the delimiter for a CSV file is a comma. The line terminator is the character that comes at the end of a row.\n",
    "### By default, the line terminator is a newline."
   ]
  },
  {
   "cell_type": "markdown",
   "metadata": {},
   "source": [
    "6. What function takes a string of JSON data and returns a Python data structure?"
   ]
  },
  {
   "cell_type": "code",
   "execution_count": 7,
   "metadata": {},
   "outputs": [
    {
     "name": "stdout",
     "output_type": "stream",
     "text": [
      "{\"first_name\": \"Pooja\", \"middle_name\": \"Kumari\", \"last_name\": \"Sureka\"}\n"
     ]
    }
   ],
   "source": [
    "import json\n",
    "\n",
    "data = '{\"first_name\": \"Pooja\", \"middle_name\": \"Kumari\", \"last_name\": \"Sureka\"}'\n",
    "\n",
    "final_data = json.loads(data)\n",
    "\n",
    "print(data)  "
   ]
  },
  {
   "cell_type": "markdown",
   "metadata": {},
   "source": [
    "7. What function takes a Python data structure and returns a string of JSON data?"
   ]
  },
  {
   "cell_type": "code",
   "execution_count": 8,
   "metadata": {},
   "outputs": [
    {
     "name": "stdout",
     "output_type": "stream",
     "text": [
      "\"{\\\"first_name\\\": \\\"Pooja\\\", \\\"middle_name\\\": \\\"Kumari\\\", \\\"last_name\\\": \\\"Sureka\\\"}\"\n"
     ]
    }
   ],
   "source": [
    "### Using json. \n",
    "\n",
    "### dumps() can be used for converting a Python object into a JSON string. \n",
    "### The json. dumps() function takes one parameter, which is the data to be converted into JSON string\n",
    "\n",
    "\n",
    "data = '{\"first_name\": \"Pooja\", \"middle_name\": \"Kumari\", \"last_name\": \"Sureka\"}'\n",
    "\n",
    "new_data = json.dumps(data)\n",
    "print(new_data)"
   ]
  },
  {
   "cell_type": "code",
   "execution_count": null,
   "metadata": {},
   "outputs": [],
   "source": []
  }
 ],
 "metadata": {
  "kernelspec": {
   "display_name": "Python 3",
   "language": "python",
   "name": "python3"
  },
  "language_info": {
   "codemirror_mode": {
    "name": "ipython",
    "version": 3
   },
   "file_extension": ".py",
   "mimetype": "text/x-python",
   "name": "python",
   "nbconvert_exporter": "python",
   "pygments_lexer": "ipython3",
   "version": "3.11.2"
  },
  "orig_nbformat": 4
 },
 "nbformat": 4,
 "nbformat_minor": 2
}
